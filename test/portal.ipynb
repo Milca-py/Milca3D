{
 "cells": [
  {
   "cell_type": "code",
   "execution_count": null,
   "id": "515f619d",
   "metadata": {},
   "outputs": [],
   "source": [
    "from csi_api import StarSAP2000\n",
    "\n",
    "sap_model = StarSAP2000('ultimo')\n"
   ]
  },
  {
   "cell_type": "code",
   "execution_count": 2,
   "id": "3d0e3669",
   "metadata": {},
   "outputs": [],
   "source": [
    "from csi_api import *"
   ]
  },
  {
   "cell_type": "code",
   "execution_count": 4,
   "id": "f79e4747",
   "metadata": {},
   "outputs": [
    {
     "name": "stdout",
     "output_type": "stream",
     "text": [
      "Unidades cambiadas a: Ton/m (C).\n"
     ]
    }
   ],
   "source": [
    "cambiar_unidades(sap_model, 12)"
   ]
  },
  {
   "cell_type": "code",
   "execution_count": 11,
   "id": "3c9250f3",
   "metadata": {},
   "outputs": [],
   "source": [
    "\n",
    "Lx = 4\n",
    "Ly = 4\n",
    "Lz = 4\n",
    "\n",
    "# Materiales y secciones\n",
    "h = 0.5\n",
    "b = 0.3\n",
    "E: float = 2.1e6\n",
    "v: float = 0.2"
   ]
  },
  {
   "cell_type": "code",
   "execution_count": 6,
   "id": "d240f624",
   "metadata": {},
   "outputs": [
    {
     "name": "stdout",
     "output_type": "stream",
     "text": [
      "Material de concreto creado exitosamente.\n"
     ]
    }
   ],
   "source": [
    "crear_material_concreto(sap_model, E, 'concreto', 210, 2.4, 0.2)"
   ]
  },
  {
   "cell_type": "code",
   "execution_count": 7,
   "id": "78e7d0ff",
   "metadata": {},
   "outputs": [
    {
     "name": "stdout",
     "output_type": "stream",
     "text": [
      "Sección rectangular creada exitosamente.\n"
     ]
    }
   ],
   "source": [
    "crear_seccion_rectangular(sap_model,\"SECTION\", \"concreto\", h, b)"
   ]
  },
  {
   "cell_type": "code",
   "execution_count": 19,
   "id": "1055fdf0",
   "metadata": {},
   "outputs": [
    {
     "name": "stdout",
     "output_type": "stream",
     "text": [
      "Nodo 1 creado en las coordenadas: (0, 0, 0)\n",
      "Nodo 2 creado en las coordenadas: (4, 0, 0)\n",
      "Nodo 3 creado en las coordenadas: (4, 4, 0)\n",
      "Nodo 4 creado en las coordenadas: (0, 4, 0)\n",
      "Nodo 5 creado en las coordenadas: (0, 0, 4)\n",
      "Nodo 6 creado en las coordenadas: (4, 0, 4)\n",
      "Nodo 7 creado en las coordenadas: (4, 4, 4)\n",
      "Nodo 8 creado en las coordenadas: (0, 4, 4)\n"
     ]
    }
   ],
   "source": [
    "coords = {\n",
    "    1: (0, 0, 0),\n",
    "    2: (Lx, 0, 0),\n",
    "    3: (Lx, Ly, 0),\n",
    "    4: (0, Ly, 0),\n",
    "    5: (0, 0, Lz),\n",
    "    6: (Lx, 0, Lz),\n",
    "    7: (Lx, Ly, Lz),\n",
    "    8: (0, Ly, Lz),\n",
    "}\n",
    "\n",
    "crear_nodos(sap_model, list(coords.values()), list(map(str, coords.keys())))\n"
   ]
  },
  {
   "cell_type": "code",
   "execution_count": 21,
   "id": "499ece5c",
   "metadata": {},
   "outputs": [],
   "source": [
    "def crear_frame_por_nodos(SapModel, NodeI, NodeJ, PropName, FrameName=\"\"):\n",
    "    \"\"\"\n",
    "    Crea un frame en SAP2000 usando las etiquetas de los nodos inicial y final.\n",
    "\n",
    "    Parámetros:\n",
    "    SapModel : objeto de SAP2000\n",
    "        El objeto del modelo de SAP2000.\n",
    "    NodeI : str\n",
    "        Etiqueta del nodo inicial.\n",
    "    NodeJ : str\n",
    "        Etiqueta del nodo final.\n",
    "    PropName : str\n",
    "        Nombre de la propiedad de la sección (material y dimensiones).\n",
    "    FrameName : str, opcional\n",
    "        Nombre del frame (si se deja vacío, SAP2000 asignará un nombre automáticamente).\n",
    "    \"\"\"\n",
    "    FrameName1, ret = SapModel.FrameObj.AddByPoint(\n",
    "        NodeI,    # Etiqueta del nodo inicial\n",
    "        NodeJ,    # Etiqueta del nodo final\n",
    "        FrameName,  # Nombre del frame (vacío para que SAP lo asigne)\n",
    "        PropName    # Propiedad de la sección\n",
    "    )\n",
    "\n",
    "    if ret == 0:\n",
    "        print(f\"Frame creado exitosamente: {FrameName1}\")\n",
    "    else:\n",
    "        print(\"Error al crear el frame.\")"
   ]
  },
  {
   "cell_type": "code",
   "execution_count": 22,
   "id": "d5bcd67e",
   "metadata": {},
   "outputs": [
    {
     "name": "stdout",
     "output_type": "stream",
     "text": [
      "Frame creado exitosamente: 1\n",
      "Frame creado exitosamente: 2\n",
      "Frame creado exitosamente: 3\n",
      "Frame creado exitosamente: 4\n",
      "Frame creado exitosamente: 5\n",
      "Frame creado exitosamente: 6\n",
      "Frame creado exitosamente: 7\n",
      "Frame creado exitosamente: 8\n"
     ]
    }
   ],
   "source": [
    "crear_frame_por_nodos(sap_model, \"1\", \"5\", \"SECTION\")\n",
    "crear_frame_por_nodos(sap_model, \"2\", \"6\", \"SECTION\")\n",
    "crear_frame_por_nodos(sap_model, \"3\", \"7\", \"SECTION\")\n",
    "crear_frame_por_nodos(sap_model, \"4\", \"8\", \"SECTION\")\n",
    "crear_frame_por_nodos(sap_model, \"5\", \"6\", \"SECTION\")\n",
    "crear_frame_por_nodos(sap_model, \"6\", \"7\", \"SECTION\")\n",
    "crear_frame_por_nodos(sap_model, \"7\", \"8\", \"SECTION\")\n",
    "crear_frame_por_nodos(sap_model, \"8\", \"5\", \"SECTION\")"
   ]
  },
  {
   "cell_type": "code",
   "execution_count": 23,
   "id": "40ef9238",
   "metadata": {},
   "outputs": [],
   "source": [
    "def obtener_matriz_transformacion(SapModel, nombre_frame, global_coords=True):\n",
    "    \"\"\"\n",
    "    Obtiene la matriz de transformación de un objeto frame en SAP2000.\n",
    "\n",
    "    Parámetros:\n",
    "    SapModel : objeto de SAP2000\n",
    "        El modelo activo.\n",
    "    nombre_frame : str\n",
    "        Nombre del frame del que se quiere obtener la matriz.\n",
    "    global_coords : bool, opcional\n",
    "        Si True, devuelve matriz local → global.\n",
    "        Si False, matriz local → sistema actual.\n",
    "\n",
    "    Retorna:\n",
    "    list: Matriz de transformación (lista de 9 floats).\n",
    "    int: Código de retorno (0 si exitoso).\n",
    "    \"\"\"\n",
    "    matriz = [0.0] * 9  # Inicializar lista de 9 ceros\n",
    "    ret = SapModel.FrameObj.GetTransformationMatrix(nombre_frame, matriz, global_coords)\n",
    "\n",
    "    if ret == 0:\n",
    "        print(f\"Matriz de transformación del frame '{nombre_frame}':\")\n",
    "        for i in range(3):\n",
    "            print(matriz[i*3:(i+1)*3])\n",
    "    else:\n",
    "        print(f\"❌ Error al obtener la matriz del frame '{nombre_frame}'.\")\n",
    "\n",
    "    return matriz, ret\n"
   ]
  },
  {
   "cell_type": "code",
   "execution_count": 25,
   "id": "b1c69bbc",
   "metadata": {},
   "outputs": [
    {
     "name": "stdout",
     "output_type": "stream",
     "text": [
      "❌ Error al obtener la matriz del frame '1'.\n"
     ]
    },
    {
     "data": {
      "text/plain": [
       "([0.0, 0.0, 0.0, 0.0, 0.0, 0.0, 0.0, 0.0, 0.0],\n",
       " [(0.0, 1.0, 0.0, 0.0, 0.0, 1.0, 1.0, 0.0, 0.0), 0])"
      ]
     },
     "execution_count": 25,
     "metadata": {},
     "output_type": "execute_result"
    }
   ],
   "source": [
    "obtener_matriz_transformacion(sap_model, \"1\")"
   ]
  },
  {
   "cell_type": "code",
   "execution_count": 28,
   "id": "10ae8f48",
   "metadata": {},
   "outputs": [
    {
     "name": "stdout",
     "output_type": "stream",
     "text": [
      "Patrón de carga 'CARGA' agregado con éxito.\n"
     ]
    }
   ],
   "source": [
    "agregar_patrones_carga(sap_model, [\"CARGA\"], [3], [1.0])"
   ]
  },
  {
   "cell_type": "code",
   "execution_count": 33,
   "id": "d3718452",
   "metadata": {},
   "outputs": [
    {
     "data": {
      "text/plain": [
       "[(0.0, 100.0, 0.0, 0.0, 0.0, 0.0), 0]"
      ]
     },
     "execution_count": 33,
     "metadata": {},
     "output_type": "execute_result"
    }
   ],
   "source": [
    "fx = [100, 0, 0, 0, 0, 0]\n",
    "fy = [0, 100, 0, 0, 0, 0]\n",
    "sap_model.PointObj.SetLoadForce(\"5\", \"CARGA\", fx, Replace=True)\n",
    "sap_model.PointObj.SetLoadForce(\"6\", \"CARGA\", fx, Replace=True)\n",
    "sap_model.PointObj.SetLoadForce(\"6\", \"CARGA\", fy, Replace=False)\n",
    "sap_model.PointObj.SetLoadForce(\"7\", \"CARGA\", fy, Replace=True)"
   ]
  }
 ],
 "metadata": {
  "kernelspec": {
   "display_name": "Python 3",
   "language": "python",
   "name": "python3"
  },
  "language_info": {
   "codemirror_mode": {
    "name": "ipython",
    "version": 3
   },
   "file_extension": ".py",
   "mimetype": "text/x-python",
   "name": "python",
   "nbconvert_exporter": "python",
   "pygments_lexer": "ipython3",
   "version": "3.11.7"
  }
 },
 "nbformat": 4,
 "nbformat_minor": 5
}
